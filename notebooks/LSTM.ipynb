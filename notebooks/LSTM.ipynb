{
 "cells": [
  {
   "cell_type": "code",
   "execution_count": 1,
   "metadata": {},
   "outputs": [
    {
     "name": "stderr",
     "output_type": "stream",
     "text": [
      "Using TensorFlow backend.\n"
     ]
    }
   ],
   "source": [
    "import math\n",
    "from multiprocessing import Pool\n",
    "import os\n",
    "import sys\n",
    "import itertools\n",
    "import time\n",
    "import tempfile\n",
    "import pickle\n",
    "\n",
    "sys.path.append(os.path.abspath(os.pardir))\n",
    "\n",
    "%matplotlib inline\n",
    "\n",
    "import keras\n",
    "import numpy as np\n",
    "import pandas as pd\n",
    "import seaborn as sns\n",
    "\n",
    "# Metrics\n",
    "from sklearn.metrics import f1_score\n",
    "\n",
    "# Notebook helper methods\n",
    "from bella import notebook_helper\n",
    "# Models\n",
    "from bella.models.tdlstm import LSTM, TDLSTM, TCLSTM\n",
    "# Tokenisers\n",
    "from bella.tokenisers import whitespace, ark_twokenize, stanford\n",
    "# Word Vectors\n",
    "from bella.word_vectors import PreTrained, GloveTwitterVectors, GloveCommonCrawl\n",
    "# Get the data\n",
    "from bella.helper import read_config, full_path\n",
    "from bella.parsers import dong, semeval_14"
   ]
  },
  {
   "cell_type": "code",
   "execution_count": 2,
   "metadata": {},
   "outputs": [],
   "source": [
    "# Load the datasets\n",
    "dong_train = dong(full_path(read_config('dong_twit_train_data')))\n",
    "dong_test = dong(full_path(read_config('dong_twit_test_data')))\n",
    "# Load the word vectors\n",
    "sswe_path = full_path(read_config('sswe_files')['vo_zhang'])\n",
    "sswe = PreTrained(sswe_path, name='sswe', padding_value=0)\n",
    "glove_50 = GloveTwitterVectors(50, padding_value=0)\n",
    "glove_100 = GloveTwitterVectors(100, padding_value=0)\n",
    "glove_200 = GloveTwitterVectors(200)\n",
    "word_vectors = [sswe, glove_50, glove_100, glove_200]"
   ]
  },
  {
   "cell_type": "markdown",
   "metadata": {},
   "source": [
    "# Testing LSTM for the effect of validation set variation\n",
    "\n",
    "In this notebook we show the effect of change in train and validation set with respect to training the 3 LSTM based models that [Tang et al.](https://www.aclweb.org/anthology/C16-1311) presented in his paper and show how close our implementation of his models come compared to the results stated in their paper. The models that they created are the following:\n",
    "\n",
    "1. **LSTM** - Standard single layered LSTM where the hidden layer output is equal to the size of the input vector dimensions e.g. if the words vectors are 50 dimensions in size then the LSTM hidden state and output is 50 dimensions.\n",
    "2. **TDLSTM** - Target Dependent LSTM. This consists of 2 LSTMs either side of the target word that the sentiment is with respect to. The Left LSTM reads words in from left to right and goes up to the last word in the target word. The right LSTM reads words right to left and goes up to the last word in the target word as well. Again the LSTM hidden state and output is the same as the dimension of the input.\n",
    "3. **TCLSTM** - Target Context LSTM is the same as the TDLSTM but the input instead of being just the word vectors it reads in and word vectors are concatenated with the vector representation of the target word. If the target word is multiple words then it is the average of those word vectors.\n",
    "\n",
    "The names of these models are direct matches to the class names that represent these models in our code base.\n",
    "\n",
    "In [Tang et al.](https://www.aclweb.org/anthology/C16-1311) paper they never state the number of Epochs that they train for and their code base is no longer avaliable therefore instead of guessing the number we decided to use Early Stopping to find the optimal number of Epochs to train for.\n",
    "\n",
    "However using Early Stopping comes with other drawbacks. As the dataset that they used for this paper (and all of the other datasets we look at) does not contain a validation set we have to create a train and validation set from the original training data. **We show in this notebook the effect of randomly splitting the training dataset into train and validation sets on the models result and how close we can reproduce the results of Tang et al.**\n",
    "\n",
    "**NOTE** The splitting is not quiet random we use Strattified splitting therefore keeping the dataset representative with respect to the labels.\n",
    "\n",
    "\n",
    "### Dataset used\n",
    "\n",
    "The dataset we use is the same as [Tang et al.](https://www.aclweb.org/anthology/C16-1311) used in their paper which is [Dong et al]() Twitter dataset which is a general domain dataset.\n",
    "\n",
    "### Word vectors used\n",
    "\n",
    "We use the same word vectors as those shown in the paper apart from the SSWE-h and SSWE-r which we could not find the *SSWE-u* is the equivalent to *SSWE* in our code base. We got the *SSWE* word vectors from the following [code base](https://github.com/bluemonk482/tdparse) and the Gove Twitter vectors from [here](https://nlp.stanford.edu/projects/glove/)\n",
    "\n",
    "### The experiment\n",
    "\n",
    "Below we run each of the 3 models 30 times with different random strattified splitting and then repeat this for each word vector. **THIS TAKES A LONG TIME** therefore we have saved all of the result and if you would like to repeat the experiments set *re_write* to True\n",
    "\n",
    "**Last Note on configurations** The pad size parameter that has to be set for each model this states how many words our LSTM model takes into accout. Setting it to -1 means that we use the length of the largest sentence (tweet) in the training set which is what was stated in the paper."
   ]
  },
  {
   "cell_type": "code",
   "execution_count": 3,
   "metadata": {},
   "outputs": [],
   "source": [
    "result_folder = os.path.abspath(os.path.join(os.getcwd(), os.pardir, 'results', 'TDLstm'))\n",
    "lstm_result_folder = os.path.join(result_folder, 'lstm')\n",
    "os.makedirs(lstm_result_folder, exist_ok=True)\n",
    "repeated_params = {'reproducible' : False, 'validation_size' : 0.3, \n",
    "                   'patience' : 10, 'epochs' : 300, 'verbose' : 0, \n",
    "                   'org_initialisers' : True}\n",
    "score_kwargs = {'average' : 'macro'}\n",
    "pad_size = -1\n",
    "for word_vector in word_vectors:\n",
    "    lstm_repeated_results = os.path.join(lstm_result_folder, 'LSTM {} Repeated Results.json'.format(word_vector))\n",
    "    lstm = LSTM(ark_twokenize, word_vector, lower=True, pad_size=pad_size)\n",
    "    lstm_rep_results = lstm.repeated_results(dong_train, dong_test, 30, f1_score,\n",
    "                                             'Dong Twitter', results_file=lstm_repeated_results,\n",
    "                                             re_write=False, score_kwargs=score_kwargs, **repeated_params)"
   ]
  },
  {
   "cell_type": "code",
   "execution_count": 4,
   "metadata": {},
   "outputs": [],
   "source": [
    "result_folder = os.path.abspath(os.path.join(os.getcwd(), os.pardir, 'results', 'TDLstm'))\n",
    "tdlstm_result_folder = os.path.join(result_folder, 'tdlstm')\n",
    "os.makedirs(tdlstm_result_folder, exist_ok=True)\n",
    "repeated_params = {'reproducible' : False, 'validation_size' : 0.3, \n",
    "                   'patience' : 10, 'epochs' : 300, 'verbose' : 0, \n",
    "                   'org_initialisers' : True}\n",
    "score_kwargs = {'average' : 'macro'}\n",
    "pad_size = -1\n",
    "for word_vector in word_vectors:\n",
    "    tdlstm_repeated_results = os.path.join(tdlstm_result_folder, 'TDLSTM {} Pad Size {} Repeated Results.json'\\\n",
    "                                                                 .format(word_vector, pad_size))\n",
    "    tdlstm = TDLSTM(ark_twokenize, word_vector, lower=True, pad_size=pad_size)\n",
    "    tdlstm_rep_results = tdlstm.repeated_results(dong_train, dong_test, 30, f1_score,\n",
    "                                                 'Dong Twitter', results_file=tdlstm_repeated_results,\n",
    "                                                 re_write=False, score_kwargs=score_kwargs, **repeated_params)"
   ]
  },
  {
   "cell_type": "code",
   "execution_count": 5,
   "metadata": {},
   "outputs": [],
   "source": [
    "result_folder = os.path.abspath(os.path.join(os.getcwd(), os.pardir, 'results', 'TDLstm'))\n",
    "tclstm_result_folder = os.path.join(result_folder, 'tclstm')\n",
    "os.makedirs(tclstm_result_folder, exist_ok=True)\n",
    "repeated_params = {'reproducible' : False, 'validation_size' : 0.3, \n",
    "                   'patience' : 10, 'epochs' : 300, 'verbose' : 0, \n",
    "                   'org_initialisers' : True}\n",
    "score_kwargs = {'average' : 'macro'}\n",
    "pad_size = -1\n",
    "for word_vector in word_vectors:\n",
    "    tclstm_repeated_results = os.path.join(tclstm_result_folder, 'TCLSTM {} Pad Size {} Repeated Results.json'\\\n",
    "                                                                 .format(word_vector, pad_size))\n",
    "    tclstm = TCLSTM(ark_twokenize, word_vector, lower=True, pad_size=pad_size)\n",
    "    tclstm_rep_results = tclstm.repeated_results(dong_train, dong_test, 1, f1_score,\n",
    "                                                 'Dong Twitter', results_file=tclstm_repeated_results,\n",
    "                                                 re_write=False, score_kwargs=score_kwargs, **repeated_params)"
   ]
  },
  {
   "cell_type": "markdown",
   "metadata": {},
   "source": [
    "Now we have all of the data saved in the respective result files we shall analysis it to see how much the results vary and how close we get to the result stated in Tang et al. paper"
   ]
  },
  {
   "cell_type": "code",
   "execution_count": 7,
   "metadata": {},
   "outputs": [
    {
     "data": {
      "image/png": "[encoded data removed]",
      "text/plain": [
       "<matplotlib.figure.Figure at 0x7fa42a669198>"
      ]
     },
     "metadata": {},
     "output_type": "display_data"
    }
   ],
   "source": [
    "import pandas as pd\n",
    "import numpy as np\n",
    "import seaborn as sns\n",
    "\n",
    "model_folder = {'lstm' : lstm_result_folder, 'tdlstm' : tdlstm_result_folder,\n",
    "                'tclstm' : tclstm_result_folder}\n",
    "model_word_vector_results = pd.DataFrame()\n",
    "\n",
    "# Original results inputted first and then add the result we found\n",
    "mean_glove_200_results = {'LSTM' : [64.7], 'TDLSTM' : [69.0], 'TCLSTM' : [69.5]}\n",
    "\n",
    "word_vector_type = []\n",
    "word_vector_results = []\n",
    "model_result = []\n",
    "word_vector_names = ['{}'.format(word_vector) for word_vector in word_vectors]\n",
    "for model, folder in model_folder.items():\n",
    "    \n",
    "    for word_vector_name in word_vector_names:\n",
    "        result_file = '{} {} Pad Size {} Repeated Results.json'.format(model, word_vector_name, pad_size)\n",
    "        if model == 'lstm':\n",
    "            result_file = '{} {} Repeated Results.json'.format(model, word_vector_name)\n",
    "        result_file = os.path.join(folder, result_file)\n",
    "        results = notebook_helper.get_json_data(result_file, 'Dong Twitter')\n",
    "        num_results = len(results)\n",
    "        word_vector_results.extend(results)\n",
    "        \n",
    "        if word_vector_name == 'glove twitter 200d':\n",
    "            mean_glove_200_results[model.upper()].append(np.array(results).mean() * 100)\n",
    "        \n",
    "        if word_vector_name == 'sswe':\n",
    "            word_vector_name = 'SSWE'\n",
    "            word_vector_type.extend([word_vector_name] * num_results)\n",
    "        else:\n",
    "            word_vector_type.extend([word_vector_name.capitalize()] * num_results)\n",
    "        model_result.extend([model.upper()] * num_results)\n",
    "\n",
    "model_word_vector_results['Macro F1 Score'] = np.array(word_vector_results) * 100\n",
    "model_word_vector_results['Model'] =  model_result\n",
    "model_word_vector_results['Word Vector'] = word_vector_type\n",
    "\n",
    "#model_word_vector_results.columns = columns\n",
    "model_word_vector_results\n",
    "ax = sns.boxplot(x=\"Model\", y=\"Macro F1 Score\", hue=\"Word Vector\", \n",
    "                 data=model_word_vector_results)\n",
    "ax.figure.set_size_inches(6,3.9)\n",
    "leg = ax.legend(loc=9, bbox_to_anchor=(0.5, -0.12), ncol=2)\n"
   ]
  },
  {
   "cell_type": "markdown",
   "metadata": {},
   "source": [
    "As we can see above the results vary by quiet a lot but interestingly the LSTM method performed the best which is a different result to the original paper which states that the LSTM method performs worse than all of the other models. \n",
    "\n",
    "Generally the TCLSTM seems to perform better than TDLSTM but does vary a lot more therefore making it more unpredictable.\n",
    "\n",
    "Also apart from the TCLSTM model where the 100 dimension Glove vector performs worse than the SSWE word vector the order of the performance of the word vectors is the same as the original paper.\n",
    "\n",
    "However as we can see all of the model tend to vary a lot and are therefore quiet suseptiable to change in training and validation splitting. Thus showing without specify Train and Validation split it is very difficult to reproduce the results of an experiment. However as you can see we never reach the values reported in the original paper thus leaving us in the dark on how they produced those results.\n",
    "\n",
    "\n",
    "Below we show the mean values of the repeated experiments above and state these as our reported results and compared them to the original results from Tang et al paper."
   ]
  },
  {
   "cell_type": "code",
   "execution_count": 8,
   "metadata": {},
   "outputs": [
    {
     "data": {
      "text/html": [
       "<div>\n",
       "<style scoped>\n",
       "    .dataframe tbody tr th:only-of-type {\n",
       "        vertical-align: middle;\n",
       "    }\n",
       "\n",
       "    .dataframe tbody tr th {\n",
       "        vertical-align: top;\n",
       "    }\n",
       "\n",
       "    .dataframe thead th {\n",
       "        text-align: right;\n",
       "    }\n",
       "</style>\n",
       "<table border=\"1\" class=\"dataframe\">\n",
       "  <thead>\n",
       "    <tr style=\"text-align: right;\">\n",
       "      <th></th>\n",
       "      <th>LSTM</th>\n",
       "      <th>TCLSTM</th>\n",
       "      <th>TDLSTM</th>\n",
       "    </tr>\n",
       "  </thead>\n",
       "  <tbody>\n",
       "    <tr>\n",
       "      <th>Original</th>\n",
       "      <td>64.7</td>\n",
       "      <td>69.5</td>\n",
       "      <td>69.0</td>\n",
       "    </tr>\n",
       "    <tr>\n",
       "      <th>Reproduced</th>\n",
       "      <td>61.1</td>\n",
       "      <td>58.6</td>\n",
       "      <td>57.7</td>\n",
       "    </tr>\n",
       "  </tbody>\n",
       "</table>\n",
       "</div>"
      ],
      "text/plain": [
       "            LSTM  TCLSTM  TDLSTM\n",
       "Original    64.7    69.5    69.0\n",
       "Reproduced  61.1    58.6    57.7"
      ]
     },
     "execution_count": 8,
     "metadata": {},
     "output_type": "execute_result"
    }
   ],
   "source": [
    "pd.DataFrame(mean_glove_200_results, index=['Original', 'Reproduced']).round(1)"
   ]
  },
  {
   "cell_type": "code",
   "execution_count": null,
   "metadata": {},
   "outputs": [],
   "source": []
  }
 ],
 "metadata": {
  "kernelspec": {
   "display_name": "Python 3",
   "language": "python",
   "name": "python3"
  },
  "language_info": {
   "codemirror_mode": {
    "name": "ipython",
    "version": 3
   },
   "file_extension": ".py",
   "mimetype": "text/x-python",
   "name": "python",
   "nbconvert_exporter": "python",
   "pygments_lexer": "ipython3",
   "version": "3.6.0"
  }
 },
 "nbformat": 4,
 "nbformat_minor": 2
}
